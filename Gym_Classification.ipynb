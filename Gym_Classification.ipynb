{
 "cells": [
  {
   "cell_type": "code",
   "execution_count": 1,
   "metadata": {},
   "outputs": [],
   "source": [
    "import pandas as pd\n",
    "import numpy as np \n",
    "import matplotlib.pyplot as plt\n",
    "import seaborn as sns \n",
    "from sklearn.ensemble import RandomForestClassifier\n",
    "from sklearn.metrics import f1_score, precision_score, recall_score\n",
    "from sklearn.model_selection import train_test_split"
   ]
  },
  {
   "cell_type": "markdown",
   "metadata": {},
   "source": [
    "Считываем данные и проверяем их на корректность."
   ]
  },
  {
   "cell_type": "code",
   "execution_count": 2,
   "metadata": {},
   "outputs": [],
   "source": [
    "data = pd.read_csv('gym_data.csv')"
   ]
  },
  {
   "cell_type": "code",
   "execution_count": 4,
   "metadata": {},
   "outputs": [
    {
     "data": {
      "text/html": [
       "<div>\n",
       "<style scoped>\n",
       "    .dataframe tbody tr th:only-of-type {\n",
       "        vertical-align: middle;\n",
       "    }\n",
       "\n",
       "    .dataframe tbody tr th {\n",
       "        vertical-align: top;\n",
       "    }\n",
       "\n",
       "    .dataframe thead th {\n",
       "        text-align: right;\n",
       "    }\n",
       "</style>\n",
       "<table border=\"1\" class=\"dataframe\">\n",
       "  <thead>\n",
       "    <tr style=\"text-align: right;\">\n",
       "      <th></th>\n",
       "      <th>Row</th>\n",
       "      <th>Registration</th>\n",
       "      <th>Zipcode</th>\n",
       "      <th>Age</th>\n",
       "      <th>Partner_company</th>\n",
       "      <th>Friend_promo</th>\n",
       "      <th>Contract_period</th>\n",
       "      <th>Lifetime</th>\n",
       "      <th>Class_registration_weekly</th>\n",
       "      <th>Avg_additional_charges_total</th>\n",
       "      <th>Cancellation_freq</th>\n",
       "      <th>Exited</th>\n",
       "      <th>Unnamed: 12</th>\n",
       "    </tr>\n",
       "  </thead>\n",
       "  <tbody>\n",
       "    <tr>\n",
       "      <td>0</td>\n",
       "      <td>10001</td>\n",
       "      <td>2000159</td>\n",
       "      <td>57328</td>\n",
       "      <td>37</td>\n",
       "      <td>0</td>\n",
       "      <td>1</td>\n",
       "      <td>6</td>\n",
       "      <td>10</td>\n",
       "      <td>1.06</td>\n",
       "      <td>134.200000</td>\n",
       "      <td>0.01</td>\n",
       "      <td>0</td>\n",
       "      <td>NaN</td>\n",
       "    </tr>\n",
       "    <tr>\n",
       "      <td>1</td>\n",
       "      <td>10002</td>\n",
       "      <td>2000235</td>\n",
       "      <td>29941</td>\n",
       "      <td>32</td>\n",
       "      <td>0</td>\n",
       "      <td>1</td>\n",
       "      <td>12</td>\n",
       "      <td>7</td>\n",
       "      <td>1.54</td>\n",
       "      <td>177.600000</td>\n",
       "      <td>0.07</td>\n",
       "      <td>0</td>\n",
       "      <td>NaN</td>\n",
       "    </tr>\n",
       "    <tr>\n",
       "      <td>2</td>\n",
       "      <td>10003</td>\n",
       "      <td>2000297</td>\n",
       "      <td>57328</td>\n",
       "      <td>29</td>\n",
       "      <td>0</td>\n",
       "      <td>1</td>\n",
       "      <td>6</td>\n",
       "      <td>5</td>\n",
       "      <td>2.15</td>\n",
       "      <td>205.000000</td>\n",
       "      <td>0.28</td>\n",
       "      <td>0</td>\n",
       "      <td>NaN</td>\n",
       "    </tr>\n",
       "    <tr>\n",
       "      <td>3</td>\n",
       "      <td>10004</td>\n",
       "      <td>2000435</td>\n",
       "      <td>29941</td>\n",
       "      <td>76</td>\n",
       "      <td>1</td>\n",
       "      <td>0</td>\n",
       "      <td>6</td>\n",
       "      <td>5</td>\n",
       "      <td>3.10</td>\n",
       "      <td>220.666667</td>\n",
       "      <td>0.39</td>\n",
       "      <td>0</td>\n",
       "      <td>NaN</td>\n",
       "    </tr>\n",
       "    <tr>\n",
       "      <td>4</td>\n",
       "      <td>10005</td>\n",
       "      <td>2000774</td>\n",
       "      <td>29941</td>\n",
       "      <td>24</td>\n",
       "      <td>1</td>\n",
       "      <td>0</td>\n",
       "      <td>1</td>\n",
       "      <td>3</td>\n",
       "      <td>1.00</td>\n",
       "      <td>142.040000</td>\n",
       "      <td>0.12</td>\n",
       "      <td>1</td>\n",
       "      <td>NaN</td>\n",
       "    </tr>\n",
       "  </tbody>\n",
       "</table>\n",
       "</div>"
      ],
      "text/plain": [
       "     Row  Registration  Zipcode  Age  Partner_company  Friend_promo  \\\n",
       "0  10001       2000159    57328   37                0             1   \n",
       "1  10002       2000235    29941   32                0             1   \n",
       "2  10003       2000297    57328   29                0             1   \n",
       "3  10004       2000435    29941   76                1             0   \n",
       "4  10005       2000774    29941   24                1             0   \n",
       "\n",
       "   Contract_period  Lifetime  Class_registration_weekly  \\\n",
       "0                6        10                       1.06   \n",
       "1               12         7                       1.54   \n",
       "2                6         5                       2.15   \n",
       "3                6         5                       3.10   \n",
       "4                1         3                       1.00   \n",
       "\n",
       "   Avg_additional_charges_total  Cancellation_freq  Exited  Unnamed: 12  \n",
       "0                    134.200000               0.01       0          NaN  \n",
       "1                    177.600000               0.07       0          NaN  \n",
       "2                    205.000000               0.28       0          NaN  \n",
       "3                    220.666667               0.39       0          NaN  \n",
       "4                    142.040000               0.12       1          NaN  "
      ]
     },
     "execution_count": 4,
     "metadata": {},
     "output_type": "execute_result"
    }
   ],
   "source": [
    "data.head()"
   ]
  },
  {
   "cell_type": "code",
   "execution_count": 74,
   "metadata": {},
   "outputs": [
    {
     "name": "stdout",
     "output_type": "stream",
     "text": [
      "<class 'pandas.core.frame.DataFrame'>\n",
      "RangeIndex: 8100 entries, 0 to 8099\n",
      "Data columns (total 13 columns):\n",
      "Row                             8100 non-null int64\n",
      "Registration                    8100 non-null int64\n",
      "Zipcode                         8100 non-null int64\n",
      "Age                             8100 non-null int64\n",
      "Partner_company                 8100 non-null int64\n",
      "Friend_promo                    8100 non-null int64\n",
      "Contract_period                 8100 non-null int64\n",
      "Lifetime                        8100 non-null int64\n",
      "Class_registration_weekly       8100 non-null float64\n",
      "Avg_additional_charges_total    8100 non-null float64\n",
      "Cancellation_freq               8100 non-null float64\n",
      "Exited                          8100 non-null int64\n",
      "Unnamed: 12                     0 non-null float64\n",
      "dtypes: float64(4), int64(9)\n",
      "memory usage: 822.7 KB\n"
     ]
    }
   ],
   "source": [
    "data.info()"
   ]
  },
  {
   "cell_type": "markdown",
   "metadata": {},
   "source": [
    "Избавляемся от мусора - столбцы `Row` и `Registration`, очевидно, не несут никакой информации о вероятности аннулирования клиентом подписки.\n",
    "`Unnamed: 12`, похоже, оказался в данных по ошибке."
   ]
  },
  {
   "cell_type": "code",
   "execution_count": 5,
   "metadata": {},
   "outputs": [],
   "source": [
    "data.drop(columns = ['Unnamed: 12', 'Row', 'Registration'], inplace = True)"
   ]
  },
  {
   "cell_type": "markdown",
   "metadata": {},
   "source": [
    "Отделим целевой признак от предикторов:"
   ]
  },
  {
   "cell_type": "code",
   "execution_count": 6,
   "metadata": {},
   "outputs": [],
   "source": [
    "X = data.drop(columns = ['Exited'])\n",
    "y = data.Exited"
   ]
  },
  {
   "cell_type": "markdown",
   "metadata": {},
   "source": [
    "Разобьём данные на обучающую, валидационную и тестовую выборки в соотношении 70/15/15."
   ]
  },
  {
   "cell_type": "code",
   "execution_count": 18,
   "metadata": {},
   "outputs": [],
   "source": [
    "X_train, X_test, y_train, y_test = train_test_split(X, y, test_size = 0.3, random_state = 1603)"
   ]
  },
  {
   "cell_type": "code",
   "execution_count": 19,
   "metadata": {},
   "outputs": [],
   "source": [
    "X_valid, X_test, y_valid, y_test = train_test_split(X, y, test_size = 0.5, random_state = 1603)"
   ]
  },
  {
   "cell_type": "markdown",
   "metadata": {},
   "source": [
    "Изучим распределение целевого признака в обучающей и валидационной выборках:"
   ]
  },
  {
   "cell_type": "code",
   "execution_count": 20,
   "metadata": {},
   "outputs": [
    {
     "data": {
      "image/png": "[encoded data removed]",
      "text/plain": [
       "<Figure size 1080x432 with 2 Axes>"
      ]
     },
     "metadata": {},
     "output_type": "display_data"
    }
   ],
   "source": [
    "sns.set_style('whitegrid')\n",
    "fig, axes = plt.subplots(1, 2, figsize = (15, 6))\n",
    "sns.countplot(y_train, ax = axes[0])\n",
    "sns.countplot(y_valid, ax = axes[1])\n",
    "plt.show()"
   ]
  },
  {
   "cell_type": "code",
   "execution_count": 22,
   "metadata": {},
   "outputs": [
    {
     "data": {
      "text/plain": [
       "0    0.757848\n",
       "1    0.242152\n",
       "Name: Exited, dtype: float64"
      ]
     },
     "execution_count": 22,
     "metadata": {},
     "output_type": "execute_result"
    }
   ],
   "source": [
    "y_train.value_counts(normalize = True)"
   ]
  },
  {
   "cell_type": "code",
   "execution_count": 23,
   "metadata": {},
   "outputs": [
    {
     "data": {
      "text/plain": [
       "0    0.751605\n",
       "1    0.248395\n",
       "Name: Exited, dtype: float64"
      ]
     },
     "execution_count": 23,
     "metadata": {},
     "output_type": "execute_result"
    }
   ],
   "source": [
    "y_test.value_counts(normalize = True)"
   ]
  },
  {
   "cell_type": "markdown",
   "metadata": {},
   "source": [
    "Видим, что соотношение значений целевого признака в обучающей и валидационной выборке примерно одинаково. Будем работать с этими выборками.\n",
    "\n",
    "Для данной задачи может подойти модель случайного леса. Протестируем разные значения параметра максимальной глубины."
   ]
  },
  {
   "cell_type": "code",
   "execution_count": 24,
   "metadata": {},
   "outputs": [
    {
     "name": "stdout",
     "output_type": "stream",
     "text": [
      "------\n",
      "Глубина 1\n",
      "F1: 0.7646536412078153\n",
      "OOB Accuracy: 0.8476190476190476\n",
      "------\n",
      "Глубина 2\n",
      "F1: 0.8070973612374887\n",
      "OOB Accuracy: 0.8844797178130511\n",
      "------\n",
      "Глубина 3\n",
      "F1: 0.8692779613025011\n",
      "OOB Accuracy: 0.9227513227513228\n",
      "------\n",
      "Глубина 4\n",
      "F1: 0.9026036644165863\n",
      "OOB Accuracy: 0.9430335097001764\n",
      "------\n",
      "Глубина 5\n",
      "F1: 0.9228515625000001\n",
      "OOB Accuracy: 0.9523809523809523\n",
      "------\n",
      "Глубина 6\n",
      "F1: 0.9390962671905697\n",
      "OOB Accuracy: 0.9603174603174603\n",
      "------\n",
      "Глубина 7\n",
      "F1: 0.9571286141575273\n",
      "OOB Accuracy: 0.9661375661375662\n",
      "------\n",
      "Глубина 8\n",
      "F1: 0.9744104365278474\n",
      "OOB Accuracy: 0.9703703703703703\n",
      "------\n",
      "Глубина 9\n",
      "F1: 0.9843355229914098\n",
      "OOB Accuracy: 0.9719576719576719\n",
      "------\n",
      "Глубина 10\n",
      "F1: 0.9913573970513473\n",
      "OOB Accuracy: 0.9723104056437389\n",
      "------\n",
      "Глубина 11\n",
      "F1: 0.9949031600407747\n",
      "OOB Accuracy: 0.9721340388007055\n",
      "------\n",
      "Глубина 12\n",
      "F1: 0.9979570990806946\n",
      "OOB Accuracy: 0.9760141093474427\n",
      "------\n",
      "Глубина 13\n",
      "F1: 0.9989775051124744\n",
      "OOB Accuracy: 0.9738977072310405\n",
      "------\n",
      "Глубина 14\n",
      "F1: 1.0\n",
      "OOB Accuracy: 0.9735449735449735\n",
      "------\n",
      "Глубина 15\n",
      "F1: 1.0\n",
      "OOB Accuracy: 0.973015873015873\n",
      "------\n",
      "Глубина 16\n",
      "F1: 1.0\n",
      "OOB Accuracy: 0.9756613756613757\n",
      "------\n",
      "Глубина 17\n",
      "F1: 1.0\n",
      "OOB Accuracy: 0.9784832451499118\n",
      "------\n",
      "Глубина 18\n",
      "F1: 1.0\n",
      "OOB Accuracy: 0.9772486772486773\n",
      "------\n",
      "Глубина 19\n",
      "F1: 1.0\n",
      "OOB Accuracy: 0.9744268077601411\n",
      "------\n",
      "Глубина 20\n",
      "F1: 1.0\n",
      "OOB Accuracy: 0.9767195767195768\n",
      "------\n",
      "Глубина 21\n",
      "F1: 1.0\n",
      "OOB Accuracy: 0.973015873015873\n",
      "------\n",
      "Глубина 22\n",
      "F1: 1.0\n",
      "OOB Accuracy: 0.9740740740740741\n",
      "------\n",
      "Глубина 23\n",
      "F1: 1.0\n",
      "OOB Accuracy: 0.9753086419753086\n",
      "------\n",
      "Глубина 24\n",
      "F1: 1.0\n",
      "OOB Accuracy: 0.9747795414462082\n",
      "Лучшая глубина - 14\n",
      "Лучшая F1: 1.0\n"
     ]
    }
   ],
   "source": [
    "max_f1 = -1\n",
    "best_depth = None\n",
    "for depth in range(1, 25):\n",
    "    print('------')\n",
    "    print('Глубина {}'.format(depth))\n",
    "    model = RandomForestClassifier(n_estimators = 100, max_depth = depth, class_weight = 'balanced', oob_score = True)\n",
    "    model.fit(X_train, y_train)\n",
    "    pred = model.predict(X_valid)\n",
    "    f1 = f1_score(y_valid, pred)\n",
    "    if f1 > max_f1:\n",
    "        max_f1 = f1\n",
    "        best_depth = depth\n",
    "    print('F1: {}'.format(f1))\n",
    "    print('OOB Accuracy:', model.oob_score_)\n",
    "print('Лучшая глубина - {}'.format(best_depth))\n",
    "print('Лучшая F1: {}'.format(max_f1))"
   ]
  },
  {
   "cell_type": "code",
   "execution_count": 25,
   "metadata": {},
   "outputs": [],
   "source": [
    "model = RandomForestClassifier(n_estimators = 1000, max_depth = 14, class_weight = 'balanced')"
   ]
  },
  {
   "cell_type": "code",
   "execution_count": 26,
   "metadata": {},
   "outputs": [],
   "source": [
    "model.fit(X_train, y_train);"
   ]
  },
  {
   "cell_type": "markdown",
   "metadata": {},
   "source": [
    "Делаем предсказания на тестовой выборке:"
   ]
  },
  {
   "cell_type": "code",
   "execution_count": 27,
   "metadata": {},
   "outputs": [],
   "source": [
    "pred = model.predict(X_test)"
   ]
  },
  {
   "cell_type": "markdown",
   "metadata": {},
   "source": [
    "Посмотрим на значение F1-меры\n",
    "\n",
    "$$ F1 = 2 \\cdot \\frac{p \\cdot r}{p + r}$$\n",
    "\n",
    "Где $p$ - точность, а $r$ - полнота."
   ]
  },
  {
   "cell_type": "code",
   "execution_count": 29,
   "metadata": {},
   "outputs": [
    {
     "name": "stdout",
     "output_type": "stream",
     "text": [
      "F1: 0.9677093844601413\n"
     ]
    }
   ],
   "source": [
    "print('F1:', f1_score(y_test, pred))"
   ]
  },
  {
   "cell_type": "markdown",
   "metadata": {},
   "source": [
    "Оценим отдельно точность и полноту."
   ]
  },
  {
   "cell_type": "code",
   "execution_count": 31,
   "metadata": {},
   "outputs": [
    {
     "name": "stdout",
     "output_type": "stream",
     "text": [
      "Precision: 0.9825819672131147\n",
      "Recall: 0.9532803180914513\n"
     ]
    }
   ],
   "source": [
    "print('Precision:', precision_score(y_test, pred))\n",
    "print('Recall:', recall_score(y_test, pred))"
   ]
  },
  {
   "cell_type": "markdown",
   "metadata": {},
   "source": [
    "Таким образом, полученная модель выявляет примерно 95% реально ушедших клиентов. При этом, если модель назвала клиента уходящим, это так в 98% случаев. Я считаю эти результаты весьма достойными."
   ]
  }
 ],
 "metadata": {
  "kernelspec": {
   "display_name": "Python 3",
   "language": "python",
   "name": "python3"
  },
  "language_info": {
   "codemirror_mode": {
    "name": "ipython",
    "version": 3
   },
   "file_extension": ".py",
   "mimetype": "text/x-python",
   "name": "python",
   "nbconvert_exporter": "python",
   "pygments_lexer": "ipython3",
   "version": "3.7.4"
  }
 },
 "nbformat": 4,
 "nbformat_minor": 2
}
